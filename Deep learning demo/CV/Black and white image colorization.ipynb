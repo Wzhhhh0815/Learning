{
 "cells": [
  {
   "attachments": {},
   "cell_type": "markdown",
   "metadata": {},
   "source": [
    "# 转换步骤\n",
    "1.将所有训练图像由RGB转换为Lab\n",
    "\n",
    "2.将L通道值作为网络输入，训练模型预测ab通道的值\n",
    "\n",
    "3.结合输入的L以及预测ab\n",
    "\n",
    "4.将Lab图像转换为RGB"
   ]
  },
  {
   "cell_type": "code",
   "execution_count": 1,
   "metadata": {},
   "outputs": [
    {
     "name": "stderr",
     "output_type": "stream",
     "text": [
      "usage: ipykernel_launcher.py [-h] -i IMAGE -p PROTOTXT -m MODEL -c POINTS\n",
      "ipykernel_launcher.py: error: the following arguments are required: -i/--image, -p/--prototxt, -m/--model, -c/--points\n"
     ]
    },
    {
     "ename": "SystemExit",
     "evalue": "2",
     "output_type": "error",
     "traceback": [
      "An exception has occurred, use %tb to see the full traceback.\n",
      "\u001b[1;31mSystemExit\u001b[0m\u001b[1;31m:\u001b[0m 2\n"
     ]
    },
    {
     "name": "stderr",
     "output_type": "stream",
     "text": [
      "d:\\miniconda3\\envs\\DL\\Lib\\site-packages\\IPython\\core\\interactiveshell.py:3513: UserWarning: To exit: use 'exit', 'quit', or Ctrl-D.\n",
      "  warn(\"To exit: use 'exit', 'quit', or Ctrl-D.\", stacklevel=1)\n"
     ]
    }
   ],
   "source": [
    "# import the necessary packages\n",
    "import numpy as np\n",
    "import argparse\n",
    "import cv2\n",
    "# 构建参数解析器并解析参数\n",
    "'''\n",
    "image:输入灰度图像的路径\n",
    "prototxt:Caffe prototxt文件路径\n",
    "model:Caffe的预训练模型\n",
    "NumPy集群中心点文件的路径\n",
    "'''\n",
    "ap = argparse.ArgumentParser()\n",
    "ap.add_argument(\"-i\", \"--image\", type=str, required=True,\n",
    "\thelp=\"path to input black and white image\")\n",
    "ap.add_argument(\"-p\", \"--prototxt\", type=str, required=True,\n",
    "\thelp=\"path to Caffe prototxt file\")\n",
    "ap.add_argument(\"-m\", \"--model\", type=str, required=True,\n",
    "\thelp=\"path to Caffe pre-trained model\")\n",
    "ap.add_argument(\"-c\", \"--points\", type=str, required=True,\n",
    "\thelp=\"path to cluster center points\")\n",
    "args = vars(ap.parse_args())"
   ]
  },
  {
   "cell_type": "code",
   "execution_count": null,
   "metadata": {},
   "outputs": [],
   "source": []
  }
 ],
 "metadata": {
  "kernelspec": {
   "display_name": "DL",
   "language": "python",
   "name": "python3"
  },
  "language_info": {
   "codemirror_mode": {
    "name": "ipython",
    "version": 3
   },
   "file_extension": ".py",
   "mimetype": "text/x-python",
   "name": "python",
   "nbconvert_exporter": "python",
   "pygments_lexer": "ipython3",
   "version": "3.11.3"
  },
  "orig_nbformat": 4
 },
 "nbformat": 4,
 "nbformat_minor": 2
}
