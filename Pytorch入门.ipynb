{
  "nbformat": 4,
  "nbformat_minor": 0,
  "metadata": {
    "colab": {
      "provenance": [],
      "gpuType": "T4",
      "authorship_tag": "ABX9TyM3iw4/Moz0XgOCW4FeGHlL",
      "include_colab_link": true
    },
    "kernelspec": {
      "name": "python3",
      "display_name": "Python 3"
    },
    "language_info": {
      "name": "python"
    }
  },
  "cells": [
    {
      "cell_type": "markdown",
      "metadata": {
        "id": "view-in-github",
        "colab_type": "text"
      },
      "source": [
        "<a href=\"https://colab.research.google.com/github/Wzhhhh0815/Learning/blob/master/Pytorch%E5%85%A5%E9%97%A8.ipynb\" target=\"_parent\"><img src=\"https://colab.research.google.com/assets/colab-badge.svg\" alt=\"Open In Colab\"/></a>"
      ]
    },
    {
      "cell_type": "markdown",
      "source": [
        "详细教程见https://pytorch.org/tutorials/beginner/basics/intro.html"
      ],
      "metadata": {
        "id": "FpJpfCwU8mcq"
      }
    },
    {
      "cell_type": "markdown",
      "source": [
        "# QuickStart\n",
        "\n",
        "## 数据处理\n",
        "PyTorch有两个处理数据的原语:  \n",
        "1.**DataSet**:用于存储样本以及对应的标签   \n",
        "2.**Dataloader**:包装Dataset为一个迭代对象\n",
        "\n",
        "Dataset中有许多特定类型的包，TorchText, TorchVision, and TorchAudio  \n",
        "TorchVision包含了许多数据集，CIFAR和COCO等，并且TorchVision中包含两个参数：transform 和 target_transform，分别用于修改样本和标签。"
      ],
      "metadata": {
        "id": "MwvxTUxWkOiK"
      }
    },
    {
      "cell_type": "code",
      "source": [
        "import torch\n",
        "from torch import nn\n",
        "from torch.utils.data import DataLoader\n",
        "from torchvision import datasets\n",
        "from torchvision.transforms import ToTensor"
      ],
      "metadata": {
        "id": "wDtFt3jEiLXr"
      },
      "execution_count": 21,
      "outputs": []
    },
    {
      "cell_type": "code",
      "source": [
        "# Download training data from open datasets.\n",
        "training_data = datasets.FashionMNIST(\n",
        "    root=\"data\",   # 数据的保存位置\n",
        "    train=True,   # 我们希望数据用于训练集，其中6万张图片用作训练数据，1万张图片用于测试数据\n",
        "    download=True,  # 如果目录下没有文件，则自动下载\n",
        "    transform=ToTensor(), # 我们将数据转为Tensor类型\n",
        ")\n",
        "\n",
        "# Download test data from open datasets.\n",
        "test_data = datasets.FashionMNIST(\n",
        "    root=\"data\",\n",
        "    train=False,\n",
        "    download=True,\n",
        "    transform=ToTensor(),\n",
        ")"
      ],
      "metadata": {
        "id": "zts2Tzx-kyWl"
      },
      "execution_count": 23,
      "outputs": []
    },
    {
      "cell_type": "markdown",
      "source": [
        "**数据处理详细内容见 loading data**\n",
        "\n",
        "\n",
        "---\n",
        "\n"
      ],
      "metadata": {
        "id": "w-vC-jcrsoIv"
      }
    },
    {
      "cell_type": "code",
      "source": [
        "batch_size = 64\n",
        "\n",
        "# Create data loaders.\n",
        "train_dataloader = DataLoader(training_data, batch_size=batch_size)\n",
        "test_dataloader = DataLoader(test_data, batch_size=batch_size)\n",
        "\n",
        "for X, y in test_dataloader:\n",
        "    print(f\"Shape of X [N, C, H, W]: {X.shape}\")\n",
        "    print(f\"Shape of y: {y.shape} {y.dtype}\")\n",
        "    break"
      ],
      "metadata": {
        "colab": {
          "base_uri": "https://localhost:8080/"
        },
        "id": "lV04bN65nac8",
        "outputId": "5a074ac7-7ced-44c5-ed26-8d801fba8878"
      },
      "execution_count": 24,
      "outputs": [
        {
          "output_type": "stream",
          "name": "stdout",
          "text": [
            "Shape of X [N, C, H, W]: torch.Size([64, 1, 28, 28])\n",
            "Shape of y: torch.Size([64]) torch.int64\n"
          ]
        }
      ]
    },
    {
      "cell_type": "code",
      "source": [
        "# Get cpu, gpu or mps device for training.\n",
        "device = (\n",
        "    \"cuda\"\n",
        "    if torch.cuda.is_available()\n",
        "    else \"mps\"\n",
        "    if torch.backends.mps.is_available()\n",
        "    else \"cpu\"\n",
        ")\n",
        "print(f\"Using {device} device\")\n",
        "\n",
        "# Define model\n",
        "class NeuralNetwork(nn.Module):\n",
        "    def __init__(self):\n",
        "        super().__init__()\n",
        "        self.flatten = nn.Flatten()\n",
        "        self.linear_relu_stack = nn.Sequential(\n",
        "            nn.Linear(28*28, 512),\n",
        "            nn.ReLU(),\n",
        "            nn.Linear(512, 512),\n",
        "            nn.ReLU(),\n",
        "            nn.Linear(512, 10)\n",
        "        )\n",
        "\n",
        "    def forward(self, x):\n",
        "        x = self.flatten(x)\n",
        "        logits = self.linear_relu_stack(x)\n",
        "        return logits\n",
        "\n",
        "model = NeuralNetwork().to(device)\n",
        "print(model)"
      ],
      "metadata": {
        "colab": {
          "base_uri": "https://localhost:8080/"
        },
        "id": "3mroHeKDqASs",
        "outputId": "fba71be6-6e9f-4a32-a412-1eba01627475"
      },
      "execution_count": 25,
      "outputs": [
        {
          "output_type": "stream",
          "name": "stdout",
          "text": [
            "Using cpu device\n",
            "NeuralNetwork(\n",
            "  (flatten): Flatten(start_dim=1, end_dim=-1)\n",
            "  (linear_relu_stack): Sequential(\n",
            "    (0): Linear(in_features=784, out_features=512, bias=True)\n",
            "    (1): ReLU()\n",
            "    (2): Linear(in_features=512, out_features=512, bias=True)\n",
            "    (3): ReLU()\n",
            "    (4): Linear(in_features=512, out_features=10, bias=True)\n",
            "  )\n",
            ")\n"
          ]
        }
      ]
    },
    {
      "cell_type": "markdown",
      "source": [
        "搭建模型详见building neural networks\n",
        "\n",
        "\n",
        "---\n",
        "\n"
      ],
      "metadata": {
        "id": "9JfxMvT2s2A7"
      }
    },
    {
      "cell_type": "code",
      "source": [
        "loss_fn = nn.CrossEntropyLoss()\n",
        "optimizer = torch.optim.SGD(model.parameters(), lr=1e-3)\n",
        "\n",
        "def train(dataloader, model, loss_fn, optimizer):\n",
        "    size = len(dataloader.dataset)\n",
        "    model.train()\n",
        "    for batch, (X, y) in enumerate(dataloader):\n",
        "        X, y = X.to(device), y.to(device)\n",
        "\n",
        "        # Compute prediction error\n",
        "        pred = model(X)\n",
        "        loss = loss_fn(pred, y)\n",
        "\n",
        "        # Backpropagation\n",
        "        loss.backward()\n",
        "        optimizer.step()\n",
        "        optimizer.zero_grad()\n",
        "\n",
        "        if batch % 100 == 0:\n",
        "            loss, current = loss.item(), (batch + 1) * len(X)\n",
        "            print(f\"loss: {loss:>7f}  [{current:>5d}/{size:>5d}]\")\n",
        "\n",
        "def test(dataloader, model, loss_fn):\n",
        "    size = len(dataloader.dataset)\n",
        "    num_batches = len(dataloader)\n",
        "    model.eval()\n",
        "    test_loss, correct = 0, 0\n",
        "    with torch.no_grad():\n",
        "        for X, y in dataloader:\n",
        "            X, y = X.to(device), y.to(device)\n",
        "            pred = model(X)\n",
        "            test_loss += loss_fn(pred, y).item()\n",
        "            correct += (pred.argmax(1) == y).type(torch.float).sum().item()\n",
        "    test_loss /= num_batches\n",
        "    correct /= size\n",
        "    print(f\"Test Error: \\n Accuracy: {(100*correct):>0.1f}%, Avg loss: {test_loss:>8f} \\n\")"
      ],
      "metadata": {
        "id": "95zu2lodqkM-"
      },
      "execution_count": 26,
      "outputs": []
    },
    {
      "cell_type": "code",
      "source": [
        "epochs = 5\n",
        "for t in range(epochs):\n",
        "    print(f\"Epoch {t+1}\\n-------------------------------\")\n",
        "    train(train_dataloader, model, loss_fn, optimizer)\n",
        "    test(test_dataloader, model, loss_fn)\n",
        "print(\"Done!\")"
      ],
      "metadata": {
        "colab": {
          "base_uri": "https://localhost:8080/"
        },
        "id": "8ORjDfQzuwyP",
        "outputId": "daf15b65-0938-4886-bedc-59d8444cc789"
      },
      "execution_count": 27,
      "outputs": [
        {
          "output_type": "stream",
          "name": "stdout",
          "text": [
            "Epoch 1\n",
            "-------------------------------\n",
            "loss: 2.295810  [   64/60000]\n",
            "loss: 2.291672  [ 6464/60000]\n",
            "loss: 2.267780  [12864/60000]\n",
            "loss: 2.259195  [19264/60000]\n",
            "loss: 2.239912  [25664/60000]\n",
            "loss: 2.209444  [32064/60000]\n",
            "loss: 2.210826  [38464/60000]\n",
            "loss: 2.178555  [44864/60000]\n",
            "loss: 2.178773  [51264/60000]\n",
            "loss: 2.147815  [57664/60000]\n",
            "Test Error: \n",
            " Accuracy: 46.1%, Avg loss: 2.139840 \n",
            "\n",
            "Epoch 2\n",
            "-------------------------------\n",
            "loss: 2.151376  [   64/60000]\n",
            "loss: 2.148444  [ 6464/60000]\n",
            "loss: 2.079738  [12864/60000]\n",
            "loss: 2.096866  [19264/60000]\n",
            "loss: 2.045483  [25664/60000]\n",
            "loss: 1.980973  [32064/60000]\n",
            "loss: 2.005614  [38464/60000]\n",
            "loss: 1.925346  [44864/60000]\n",
            "loss: 1.929353  [51264/60000]\n",
            "loss: 1.858458  [57664/60000]\n",
            "Test Error: \n",
            " Accuracy: 57.9%, Avg loss: 1.855844 \n",
            "\n",
            "Epoch 3\n",
            "-------------------------------\n",
            "loss: 1.888844  [   64/60000]\n",
            "loss: 1.866237  [ 6464/60000]\n",
            "loss: 1.733374  [12864/60000]\n",
            "loss: 1.781238  [19264/60000]\n",
            "loss: 1.672497  [25664/60000]\n",
            "loss: 1.624079  [32064/60000]\n",
            "loss: 1.642480  [38464/60000]\n",
            "loss: 1.546544  [44864/60000]\n",
            "loss: 1.567706  [51264/60000]\n",
            "loss: 1.467556  [57664/60000]\n",
            "Test Error: \n",
            " Accuracy: 60.7%, Avg loss: 1.487406 \n",
            "\n",
            "Epoch 4\n",
            "-------------------------------\n",
            "loss: 1.548895  [   64/60000]\n",
            "loss: 1.526622  [ 6464/60000]\n",
            "loss: 1.363912  [12864/60000]\n",
            "loss: 1.449380  [19264/60000]\n",
            "loss: 1.330219  [25664/60000]\n",
            "loss: 1.326504  [32064/60000]\n",
            "loss: 1.340829  [38464/60000]\n",
            "loss: 1.266621  [44864/60000]\n",
            "loss: 1.298348  [51264/60000]\n",
            "loss: 1.205398  [57664/60000]\n",
            "Test Error: \n",
            " Accuracy: 63.3%, Avg loss: 1.232230 \n",
            "\n",
            "Epoch 5\n",
            "-------------------------------\n",
            "loss: 1.301472  [   64/60000]\n",
            "loss: 1.294382  [ 6464/60000]\n",
            "loss: 1.118979  [12864/60000]\n",
            "loss: 1.238784  [19264/60000]\n",
            "loss: 1.112435  [25664/60000]\n",
            "loss: 1.135771  [32064/60000]\n",
            "loss: 1.157549  [38464/60000]\n",
            "loss: 1.093073  [44864/60000]\n",
            "loss: 1.130891  [51264/60000]\n",
            "loss: 1.051636  [57664/60000]\n",
            "Test Error: \n",
            " Accuracy: 64.7%, Avg loss: 1.074211 \n",
            "\n",
            "Done!\n"
          ]
        }
      ]
    },
    {
      "cell_type": "markdown",
      "source": [
        "训练模型详见OPTIMIZING MODEL PARAMETERS\n",
        "\n",
        "\n",
        "---\n",
        "\n",
        "\n"
      ],
      "metadata": {
        "id": "dCPV6HDayRMG"
      }
    },
    {
      "cell_type": "code",
      "source": [
        "# save model\n",
        "torch.save(model.state_dict(), \"model.pth\")\n",
        "print(\"Saved PyTorch Model State to model.pth\")"
      ],
      "metadata": {
        "colab": {
          "base_uri": "https://localhost:8080/"
        },
        "id": "z490AzdZu-R5",
        "outputId": "09155c0f-086d-4aa8-b81b-520d4f545e38"
      },
      "execution_count": 28,
      "outputs": [
        {
          "output_type": "stream",
          "name": "stdout",
          "text": [
            "Saved PyTorch Model State to model.pth\n"
          ]
        }
      ]
    },
    {
      "cell_type": "code",
      "source": [
        "# loading model\n",
        "model = NeuralNetwork().to(device)\n",
        "model.load_state_dict(torch.load(\"model.pth\"))"
      ],
      "metadata": {
        "colab": {
          "base_uri": "https://localhost:8080/"
        },
        "id": "IaXVb1tYzVXr",
        "outputId": "47e09570-519c-47be-b4af-c327ac77b3e7"
      },
      "execution_count": 29,
      "outputs": [
        {
          "output_type": "execute_result",
          "data": {
            "text/plain": [
              "<All keys matched successfully>"
            ]
          },
          "metadata": {},
          "execution_count": 29
        }
      ]
    },
    {
      "cell_type": "code",
      "source": [
        "classes = [\n",
        "    \"T-shirt/top\",\n",
        "    \"Trouser\",\n",
        "    \"Pullover\",\n",
        "    \"Dress\",\n",
        "    \"Coat\",\n",
        "    \"Sandal\",\n",
        "    \"Shirt\",\n",
        "    \"Sneaker\",\n",
        "    \"Bag\",\n",
        "    \"Ankle boot\",\n",
        "]\n",
        "\n",
        "model.eval()\n",
        "x, y = test_data[0][0], test_data[0][1]\n",
        "with torch.no_grad():\n",
        "    x = x.to(device)\n",
        "    pred = model(x)\n",
        "    predicted, actual = classes[pred[0].argmax(0)], classes[y]\n",
        "    print(f'Predicted: \"{predicted}\", Actual: \"{actual}\"')"
      ],
      "metadata": {
        "colab": {
          "base_uri": "https://localhost:8080/"
        },
        "id": "pKM765AO0Fha",
        "outputId": "2811c9c6-eb2e-4204-e039-5ede3ab8dc3e"
      },
      "execution_count": 30,
      "outputs": [
        {
          "output_type": "stream",
          "name": "stdout",
          "text": [
            "Predicted: \"Ankle boot\", Actual: \"Ankle boot\"\n"
          ]
        }
      ]
    },
    {
      "cell_type": "markdown",
      "source": [
        "保存与加载模型见Saving & Loading your model\n",
        "\n",
        "\n",
        "---\n",
        "\n",
        "\n"
      ],
      "metadata": {
        "id": "CVYUKN1D1V4n"
      }
    },
    {
      "cell_type": "markdown",
      "source": [
        "# loading data"
      ],
      "metadata": {
        "id": "M7H3MOXB4zvl"
      }
    },
    {
      "cell_type": "markdown",
      "source": [
        "## Loading a Dataset\n",
        "采用以下方式加载数据集：\n",
        "* root是存储训练/测试数据的路径，\n",
        "\n",
        "* train指定训练或测试数据集，\n",
        "\n",
        "* download=True会在root中没有数据时从互联网下载。\n",
        "\n",
        "* transform和target_transform对特征以及标签进行预处理。\n",
        "\n"
      ],
      "metadata": {
        "id": "wWbA1fbF9Pmc"
      }
    },
    {
      "cell_type": "code",
      "source": [
        "import torch\n",
        "from torch.utils.data import Dataset\n",
        "from torchvision import datasets\n",
        "from torchvision.transforms import ToTensor\n",
        "import matplotlib.pyplot as plt\n",
        "\n",
        "\n",
        "training_data = datasets.FashionMNIST(\n",
        "    root=\"data\",\n",
        "    train=True,\n",
        "    download=True,\n",
        "    transform=ToTensor()\n",
        ")\n",
        "\n",
        "test_data = datasets.FashionMNIST(\n",
        "    root=\"data\",\n",
        "    train=False,\n",
        "    download=True,\n",
        "    transform=ToTensor()\n",
        ")"
      ],
      "metadata": {
        "id": "FqwQVlkX1aPj"
      },
      "execution_count": 32,
      "outputs": []
    },
    {
      "cell_type": "markdown",
      "source": [
        "## Iterating and Visualizing the Dataset"
      ],
      "metadata": {
        "id": "HiEvbWs_95W2"
      }
    },
    {
      "cell_type": "code",
      "source": [
        "labels_map = {\n",
        "    0: \"T-Shirt\",\n",
        "    1: \"Trouser\",\n",
        "    2: \"Pullover\",\n",
        "    3: \"Dress\",\n",
        "    4: \"Coat\",\n",
        "    5: \"Sandal\",\n",
        "    6: \"Shirt\",\n",
        "    7: \"Sneaker\",\n",
        "    8: \"Bag\",\n",
        "    9: \"Ankle Boot\",\n",
        "}\n",
        "figure = plt.figure(figsize=(8, 8))\n",
        "cols, rows = 3, 3\n",
        "for i in range(1, cols * rows + 1):\n",
        "    sample_idx = torch.randint(len(training_data), size=(1,)).item()\n",
        "    img, label = training_data[sample_idx]\n",
        "    figure.add_subplot(rows, cols, i)\n",
        "    plt.title(labels_map[label])\n",
        "    plt.axis(\"off\")\n",
        "    plt.imshow(img.squeeze(), cmap=\"gray\")\n",
        "plt.show()"
      ],
      "metadata": {
        "colab": {
          "base_uri": "https://localhost:8080/",
          "height": 675
        },
        "id": "pIqYGk2q900b",
        "outputId": "216ff103-3fe0-42f1-8150-a1665d8acfe9"
      },
      "execution_count": 34,
      "outputs": [
        {
          "output_type": "display_data",
          "data": {
            "text/plain": [
              "<Figure size 800x800 with 9 Axes>"
            ],
            "image/png": "[encoded data removed]"
          },
          "metadata": {}
        }
      ]
    },
    {
      "cell_type": "markdown",
      "source": [
        "## Creating a Custom Dataset for your files"
      ],
      "metadata": {
        "id": "hRj64Hsg_VNm"
      }
    },
    {
      "cell_type": "code",
      "source": [
        "import os\n",
        "import pandas as pd\n",
        "from torchvision.io import read_image\n",
        "\n",
        "class CustomImageDataset(Dataset):\n",
        "    def __init__(self, annotations_file, img_dir, transform=None, target_transform=None):     # 在实例初始化时运行一次\n",
        "        self.img_labels = pd.read_csv(annotations_file)\n",
        "        self.img_dir = img_dir\n",
        "        self.transform = transform\n",
        "        self.target_transform = target_transform\n",
        "\n",
        "    def __len__(self):      # 返回数据集中样本数量\n",
        "        return len(self.img_labels)\n",
        "\n",
        "    def __getitem__(self, idx): # 加载数据，并根据idx以及相应要求返回数据集中相应的样本\n",
        "        img_path = os.path.join(self.img_dir, self.img_labels.iloc[idx, 0])   # 用于拼接文件\n",
        "        image = read_image(img_path)\n",
        "        label = self.img_labels.iloc[idx, 1]\n",
        "        if self.transform:\n",
        "            image = self.transform(image)\n",
        "        if self.target_transform:\n",
        "            label = self.target_transform(label)\n",
        "        return image, label"
      ],
      "metadata": {
        "id": "G4V2lVC_-F_M"
      },
      "execution_count": 35,
      "outputs": []
    },
    {
      "cell_type": "markdown",
      "source": [
        "## Preparing your data for training with DataLoaders"
      ],
      "metadata": {
        "id": "vEFTNwEICuNq"
      }
    },
    {
      "cell_type": "code",
      "source": [
        "from torch.utils.data import DataLoader\n",
        "\n",
        "train_dataloader = DataLoader(training_data, batch_size=64, shuffle=True)\n",
        "test_dataloader = DataLoader(test_data, batch_size=64, shuffle=True)"
      ],
      "metadata": {
        "id": "LEhNKtPcBU4M"
      },
      "execution_count": 36,
      "outputs": []
    },
    {
      "cell_type": "markdown",
      "source": [
        "## Iterate through the DataLoader"
      ],
      "metadata": {
        "id": "M_QUIb0aDsAa"
      }
    },
    {
      "cell_type": "code",
      "source": [
        "# Display image and label.\n",
        "train_features, train_labels = next(iter(train_dataloader))\n",
        "print(f\"Feature batch shape: {train_features.size()}\")\n",
        "print(f\"Labels batch shape: {train_labels.size()}\")\n",
        "img = train_features[0].squeeze()\n",
        "label = train_labels[0]\n",
        "plt.imshow(img, cmap=\"gray\")\n",
        "plt.show()\n",
        "print(f\"Label: {label}\")"
      ],
      "metadata": {
        "colab": {
          "base_uri": "https://localhost:8080/",
          "height": 482
        },
        "id": "t9CCISj0DpoV",
        "outputId": "366e6d4c-4c23-40e2-9a61-e93ba0a92ee8"
      },
      "execution_count": 37,
      "outputs": [
        {
          "output_type": "stream",
          "name": "stdout",
          "text": [
            "Feature batch shape: torch.Size([64, 1, 28, 28])\n",
            "Labels batch shape: torch.Size([64])\n"
          ]
        },
        {
          "output_type": "display_data",
          "data": {
            "text/plain": [
              "<Figure size 640x480 with 1 Axes>"
            ],
            "image/png": "[encoded data removed]"
          },
          "metadata": {}
        },
        {
          "output_type": "stream",
          "name": "stdout",
          "text": [
            "Label: 2\n"
          ]
        }
      ]
    },
    {
      "cell_type": "code",
      "source": [],
      "metadata": {
        "id": "rxofVE4YDyQ5"
      },
      "execution_count": null,
      "outputs": []
    },
    {
      "cell_type": "markdown",
      "source": [
        "# building neural networks"
      ],
      "metadata": {
        "id": "oQbbulNSFNI9"
      }
    },
    {
      "cell_type": "code",
      "source": [
        "import os\n",
        "import torch\n",
        "from torch import nn\n",
        "from torch.utils.data import DataLoader\n",
        "from torchvision import datasets, transforms"
      ],
      "metadata": {
        "id": "Jogpr3u1FOr1"
      },
      "execution_count": 38,
      "outputs": []
    },
    {
      "cell_type": "markdown",
      "source": [
        "## Get Device for Training"
      ],
      "metadata": {
        "id": "73VWSLdeGvib"
      }
    },
    {
      "cell_type": "code",
      "source": [
        "device = (\n",
        "    \"cuda\"\n",
        "    if torch.cuda.is_available()\n",
        "    else \"mps\"\n",
        "    if torch.backends.mps.is_available()\n",
        "    else \"cpu\"\n",
        ")\n",
        "print(f\"Using {device} device\")"
      ],
      "metadata": {
        "colab": {
          "base_uri": "https://localhost:8080/"
        },
        "id": "H3NCUZ3_Gseq",
        "outputId": "d143f1f5-cf28-462c-bcb7-3ef584f372dd"
      },
      "execution_count": 39,
      "outputs": [
        {
          "output_type": "stream",
          "name": "stdout",
          "text": [
            "Using cpu device\n"
          ]
        }
      ]
    },
    {
      "cell_type": "markdown",
      "source": [
        "## Define the Class"
      ],
      "metadata": {
        "id": "5VqiA99dHwN3"
      }
    },
    {
      "cell_type": "code",
      "source": [
        "class NeuralNetwork(nn.Module):\n",
        "    def __init__(self):     # 定义网络\n",
        "        super().__init__()\n",
        "        self.flatten = nn.Flatten()\n",
        "        self.linear_relu_stack = nn.Sequential(\n",
        "            nn.Linear(28*28, 512),\n",
        "            nn.ReLU(),\n",
        "            nn.Linear(512, 512),\n",
        "            nn.ReLU(),\n",
        "            nn.Linear(512, 10),\n",
        "        )\n",
        "\n",
        "    def forward(self, x):   # 定义数据的处理\n",
        "        x = self.flatten(x)\n",
        "        logits = self.linear_relu_stack(x)\n",
        "        return logits"
      ],
      "metadata": {
        "id": "XajFLUBEHov5"
      },
      "execution_count": 40,
      "outputs": []
    },
    {
      "cell_type": "code",
      "source": [
        "model = NeuralNetwork().to(device)\n",
        "print(model)"
      ],
      "metadata": {
        "colab": {
          "base_uri": "https://localhost:8080/"
        },
        "id": "-XGIjFA1IJCJ",
        "outputId": "314e172c-9010-45e0-92f3-cd2f5e6f2de8"
      },
      "execution_count": 41,
      "outputs": [
        {
          "output_type": "stream",
          "name": "stdout",
          "text": [
            "NeuralNetwork(\n",
            "  (flatten): Flatten(start_dim=1, end_dim=-1)\n",
            "  (linear_relu_stack): Sequential(\n",
            "    (0): Linear(in_features=784, out_features=512, bias=True)\n",
            "    (1): ReLU()\n",
            "    (2): Linear(in_features=512, out_features=512, bias=True)\n",
            "    (3): ReLU()\n",
            "    (4): Linear(in_features=512, out_features=10, bias=True)\n",
            "  )\n",
            ")\n"
          ]
        }
      ]
    },
    {
      "cell_type": "markdown",
      "source": [
        "使用模型时，我们将输入数据传递给它。这会执行模型的前向计算以及一些后台操作。不要直接调用model.forward()！\n",
        "\n",
        "在输入上调用模型会返回一个二维张量，dim=0对应于每个类别的10个原始预测值的输出，并且dim=1对应于每个输出的单独值。通过将其传递到nn.Softmax模块实例中，我们可以获得预测概率。"
      ],
      "metadata": {
        "id": "eSDGvlI8JBPz"
      }
    },
    {
      "cell_type": "code",
      "source": [
        "X = torch.rand(1, 28, 28, device=device)\n",
        "logits = model(X)\n",
        "print(logits)\n",
        "pred_probab = nn.Softmax(dim=1)(logits)\n",
        "print(pred_probab)\n",
        "y_pred = pred_probab.argmax(1)\n",
        "print(f\"Predicted class: {y_pred}\")"
      ],
      "metadata": {
        "colab": {
          "base_uri": "https://localhost:8080/"
        },
        "id": "B1MToMdjITS0",
        "outputId": "640d6a5c-31c0-4325-e9a7-637e0952e628"
      },
      "execution_count": 44,
      "outputs": [
        {
          "output_type": "stream",
          "name": "stdout",
          "text": [
            "tensor([[ 0.0201, -0.0253, -0.0134, -0.0173, -0.0280,  0.0391, -0.1148,  0.0847,\n",
            "          0.0249, -0.0246]], grad_fn=<AddmmBackward0>)\n",
            "tensor([[0.1025, 0.0979, 0.0991, 0.0987, 0.0976, 0.1044, 0.0895, 0.1093, 0.1030,\n",
            "         0.0980]], grad_fn=<SoftmaxBackward0>)\n",
            "Predicted class: tensor([7])\n"
          ]
        }
      ]
    },
    {
      "cell_type": "markdown",
      "source": [
        "## Model Layers\n",
        "使用一个有3个图片的小批量来掩饰"
      ],
      "metadata": {
        "id": "cEpQqCq0J5UJ"
      }
    },
    {
      "cell_type": "code",
      "source": [
        "input_image = torch.rand(3,28,28)\n",
        "print(input_image.size())"
      ],
      "metadata": {
        "colab": {
          "base_uri": "https://localhost:8080/"
        },
        "id": "Rk9BuifHIn4G",
        "outputId": "e5dca53e-208b-46fd-c3ca-447c1d3e5028"
      },
      "execution_count": 45,
      "outputs": [
        {
          "output_type": "stream",
          "name": "stdout",
          "text": [
            "torch.Size([3, 28, 28])\n"
          ]
        }
      ]
    },
    {
      "cell_type": "code",
      "source": [
        "#nn.Flatten将图像转换为784（28*28）个像素的数组\n",
        "flatten = nn.Flatten()\n",
        "flat_image = flatten(input_image)\n",
        "print(flat_image.size())"
      ],
      "metadata": {
        "colab": {
          "base_uri": "https://localhost:8080/"
        },
        "id": "Uh1QjLuqKEOU",
        "outputId": "72f4fb0e-e6ed-42d1-d9a5-c04a82a14f29"
      },
      "execution_count": 46,
      "outputs": [
        {
          "output_type": "stream",
          "name": "stdout",
          "text": [
            "torch.Size([3, 784])\n"
          ]
        }
      ]
    },
    {
      "cell_type": "code",
      "source": [
        "# Linear层使用存储的权重和偏置对输入进行线性变换\n",
        "layer1 = nn.Linear(in_features=28*28, out_features=20)\n",
        "hidden1 = layer1(flat_image)\n",
        "print(hidden1.size())"
      ],
      "metadata": {
        "colab": {
          "base_uri": "https://localhost:8080/"
        },
        "id": "k_7P302OKGcF",
        "outputId": "e67052d6-b20a-48de-d445-253fce2b4c2b"
      },
      "execution_count": 47,
      "outputs": [
        {
          "output_type": "stream",
          "name": "stdout",
          "text": [
            "torch.Size([3, 20])\n"
          ]
        }
      ]
    },
    {
      "cell_type": "code",
      "source": [
        "# 非线性激活函数用于线性变化之后，帮助模型学习更多的特征\n",
        "print(f\"Before ReLU: {hidden1}\\n\\n\")\n",
        "hidden1 = nn.ReLU()(hidden1)\n",
        "print(f\"After ReLU: {hidden1}\")"
      ],
      "metadata": {
        "colab": {
          "base_uri": "https://localhost:8080/"
        },
        "id": "CUHfEcZXKcL0",
        "outputId": "ae686561-00d2-4f5f-c56f-794ba8bed20b"
      },
      "execution_count": 49,
      "outputs": [
        {
          "output_type": "stream",
          "name": "stdout",
          "text": [
            "Before ReLU: tensor([[0.2663, 0.3580, 0.0000, 0.0187, 0.0000, 0.0000, 0.0000, 0.0606, 0.0000,\n",
            "         0.3170, 0.0000, 0.1040, 0.0000, 0.2718, 0.0839, 0.0000, 0.0704, 0.4031,\n",
            "         0.0000, 0.4637],\n",
            "        [0.2718, 0.0218, 0.0000, 0.1788, 0.0000, 0.0000, 0.0000, 0.0000, 0.0000,\n",
            "         0.8853, 0.0000, 0.1478, 0.0000, 0.0000, 0.0000, 0.0000, 0.0261, 0.2992,\n",
            "         0.0451, 0.0966],\n",
            "        [0.2056, 0.3264, 0.0000, 0.0658, 0.1338, 0.0000, 0.0000, 0.0000, 0.0000,\n",
            "         0.5762, 0.0000, 0.0150, 0.0000, 0.3037, 0.0000, 0.0000, 0.0000, 0.3297,\n",
            "         0.0000, 0.3419]], grad_fn=<ReluBackward0>)\n",
            "\n",
            "\n",
            "After ReLU: tensor([[0.2663, 0.3580, 0.0000, 0.0187, 0.0000, 0.0000, 0.0000, 0.0606, 0.0000,\n",
            "         0.3170, 0.0000, 0.1040, 0.0000, 0.2718, 0.0839, 0.0000, 0.0704, 0.4031,\n",
            "         0.0000, 0.4637],\n",
            "        [0.2718, 0.0218, 0.0000, 0.1788, 0.0000, 0.0000, 0.0000, 0.0000, 0.0000,\n",
            "         0.8853, 0.0000, 0.1478, 0.0000, 0.0000, 0.0000, 0.0000, 0.0261, 0.2992,\n",
            "         0.0451, 0.0966],\n",
            "        [0.2056, 0.3264, 0.0000, 0.0658, 0.1338, 0.0000, 0.0000, 0.0000, 0.0000,\n",
            "         0.5762, 0.0000, 0.0150, 0.0000, 0.3037, 0.0000, 0.0000, 0.0000, 0.3297,\n",
            "         0.0000, 0.3419]], grad_fn=<ReluBackward0>)\n"
          ]
        }
      ]
    },
    {
      "cell_type": "code",
      "source": [
        "# nn.Sequential是一个有序的模型容器，能够快速搭建模型\n",
        "seq_modules = nn.Sequential(\n",
        "    flatten,\n",
        "    layer1,\n",
        "    nn.ReLU(),\n",
        "    nn.Linear(20, 10)\n",
        ")\n",
        "input_image = torch.rand(3,28,28)\n",
        "logits = seq_modules(input_image)"
      ],
      "metadata": {
        "id": "MjCZvqJUKt7M"
      },
      "execution_count": 50,
      "outputs": []
    },
    {
      "cell_type": "code",
      "source": [
        "# 神经网络的最后一个线性层返回logits，在[-infty，infty]范围内的原始值\n",
        "# 这些值传递给nn.Softmax模块。 logits被缩放为表示每个类别的模型预测概率的值[0,1]。 dim参数指示沿其必须总和为1的维度。\n",
        "softmax = nn.Softmax(dim=1)\n",
        "pred_probab = softmax(logits)"
      ],
      "metadata": {
        "id": "jAzIPVaGLLRD"
      },
      "execution_count": 52,
      "outputs": []
    },
    {
      "cell_type": "code",
      "source": [
        "# 通过子类化nn.Module可以自动跟踪模型对象中定义的所有字段\n",
        "# 并使用您的模型的parameters()或named_parameters()方法使所有参数可访问。\n",
        "print(f\"Model structure: {model}\\n\\n\")\n",
        "\n",
        "for name, param in model.named_parameters():\n",
        "    print(f\"Layer: {name} | Size: {param.size()} | Values : {param[:2]} \\n\")"
      ],
      "metadata": {
        "colab": {
          "base_uri": "https://localhost:8080/"
        },
        "id": "LNmlnixrLVpR",
        "outputId": "b14b266c-0162-40b0-c614-14c531cdd0e8"
      },
      "execution_count": 53,
      "outputs": [
        {
          "output_type": "stream",
          "name": "stdout",
          "text": [
            "Model structure: NeuralNetwork(\n",
            "  (flatten): Flatten(start_dim=1, end_dim=-1)\n",
            "  (linear_relu_stack): Sequential(\n",
            "    (0): Linear(in_features=784, out_features=512, bias=True)\n",
            "    (1): ReLU()\n",
            "    (2): Linear(in_features=512, out_features=512, bias=True)\n",
            "    (3): ReLU()\n",
            "    (4): Linear(in_features=512, out_features=10, bias=True)\n",
            "  )\n",
            ")\n",
            "\n",
            "\n",
            "Layer: linear_relu_stack.0.weight | Size: torch.Size([512, 784]) | Values : tensor([[-0.0347,  0.0130,  0.0196,  ...,  0.0267,  0.0240, -0.0136],\n",
            "        [ 0.0084,  0.0193,  0.0009,  ...,  0.0220, -0.0245,  0.0058]],\n",
            "       grad_fn=<SliceBackward0>) \n",
            "\n",
            "Layer: linear_relu_stack.0.bias | Size: torch.Size([512]) | Values : tensor([0.0069, 0.0125], grad_fn=<SliceBackward0>) \n",
            "\n",
            "Layer: linear_relu_stack.2.weight | Size: torch.Size([512, 512]) | Values : tensor([[ 0.0441,  0.0432,  0.0243,  ...,  0.0370, -0.0417,  0.0228],\n",
            "        [-0.0342,  0.0061,  0.0105,  ..., -0.0423,  0.0186, -0.0154]],\n",
            "       grad_fn=<SliceBackward0>) \n",
            "\n",
            "Layer: linear_relu_stack.2.bias | Size: torch.Size([512]) | Values : tensor([ 0.0336, -0.0401], grad_fn=<SliceBackward0>) \n",
            "\n",
            "Layer: linear_relu_stack.4.weight | Size: torch.Size([10, 512]) | Values : tensor([[ 0.0442,  0.0081,  0.0217,  ...,  0.0063,  0.0236,  0.0156],\n",
            "        [ 0.0182,  0.0358, -0.0380,  ...,  0.0237, -0.0349, -0.0361]],\n",
            "       grad_fn=<SliceBackward0>) \n",
            "\n",
            "Layer: linear_relu_stack.4.bias | Size: torch.Size([10]) | Values : tensor([-0.0032,  0.0223], grad_fn=<SliceBackward0>) \n",
            "\n"
          ]
        }
      ]
    },
    {
      "cell_type": "code",
      "source": [],
      "metadata": {
        "id": "g98aKL2RL59o"
      },
      "execution_count": null,
      "outputs": []
    }
  ]
}